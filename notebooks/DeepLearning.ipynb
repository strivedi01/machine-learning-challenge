{
 "cells": [
  {
   "cell_type": "code",
   "execution_count": 1,
   "metadata": {},
   "outputs": [],
   "source": [
    "import warnings\n",
    "warnings.simplefilter('ignore')"
   ]
  },
  {
   "cell_type": "code",
   "execution_count": 2,
   "metadata": {},
   "outputs": [],
   "source": [
    "# Set the seed value for the notebook so the results are reproducible\n",
    "from numpy.random import seed\n",
    "seed(1)\n"
   ]
  },
  {
   "cell_type": "code",
   "execution_count": 3,
   "metadata": {},
   "outputs": [],
   "source": [
    "# Dependencies\n",
    "import numpy as np\n",
    "import pandas as pd\n"
   ]
  },
  {
   "cell_type": "code",
   "execution_count": 4,
   "metadata": {},
   "outputs": [
    {
     "data": {
      "text/plain": [
       "'2.2.4-tf'"
      ]
     },
     "execution_count": 4,
     "metadata": {},
     "output_type": "execute_result"
    }
   ],
   "source": [
    "import tensorflow\n",
    "tensorflow.keras.__version__"
   ]
  },
  {
   "cell_type": "code",
   "execution_count": 5,
   "metadata": {},
   "outputs": [
    {
     "data": {
      "text/html": [
       "<div>\n",
       "<style scoped>\n",
       "    .dataframe tbody tr th:only-of-type {\n",
       "        vertical-align: middle;\n",
       "    }\n",
       "\n",
       "    .dataframe tbody tr th {\n",
       "        vertical-align: top;\n",
       "    }\n",
       "\n",
       "    .dataframe thead th {\n",
       "        text-align: right;\n",
       "    }\n",
       "</style>\n",
       "<table border=\"1\" class=\"dataframe\">\n",
       "  <thead>\n",
       "    <tr style=\"text-align: right;\">\n",
       "      <th></th>\n",
       "      <th>koi_disposition</th>\n",
       "      <th>koi_fpflag_nt</th>\n",
       "      <th>koi_fpflag_ss</th>\n",
       "      <th>koi_fpflag_co</th>\n",
       "      <th>koi_fpflag_ec</th>\n",
       "      <th>koi_period</th>\n",
       "      <th>koi_period_err1</th>\n",
       "      <th>koi_period_err2</th>\n",
       "      <th>koi_time0bk</th>\n",
       "      <th>koi_time0bk_err1</th>\n",
       "      <th>...</th>\n",
       "      <th>koi_steff_err2</th>\n",
       "      <th>koi_slogg</th>\n",
       "      <th>koi_slogg_err1</th>\n",
       "      <th>koi_slogg_err2</th>\n",
       "      <th>koi_srad</th>\n",
       "      <th>koi_srad_err1</th>\n",
       "      <th>koi_srad_err2</th>\n",
       "      <th>ra</th>\n",
       "      <th>dec</th>\n",
       "      <th>koi_kepmag</th>\n",
       "    </tr>\n",
       "  </thead>\n",
       "  <tbody>\n",
       "    <tr>\n",
       "      <th>0</th>\n",
       "      <td>CONFIRMED</td>\n",
       "      <td>0</td>\n",
       "      <td>0</td>\n",
       "      <td>0</td>\n",
       "      <td>0</td>\n",
       "      <td>54.418383</td>\n",
       "      <td>0.000248</td>\n",
       "      <td>-0.000248</td>\n",
       "      <td>162.513840</td>\n",
       "      <td>0.003520</td>\n",
       "      <td>...</td>\n",
       "      <td>-81</td>\n",
       "      <td>4.467</td>\n",
       "      <td>0.064</td>\n",
       "      <td>-0.096</td>\n",
       "      <td>0.927</td>\n",
       "      <td>0.105</td>\n",
       "      <td>-0.061</td>\n",
       "      <td>291.93423</td>\n",
       "      <td>48.141651</td>\n",
       "      <td>15.347</td>\n",
       "    </tr>\n",
       "    <tr>\n",
       "      <th>1</th>\n",
       "      <td>FALSE POSITIVE</td>\n",
       "      <td>0</td>\n",
       "      <td>1</td>\n",
       "      <td>0</td>\n",
       "      <td>0</td>\n",
       "      <td>19.899140</td>\n",
       "      <td>0.000015</td>\n",
       "      <td>-0.000015</td>\n",
       "      <td>175.850252</td>\n",
       "      <td>0.000581</td>\n",
       "      <td>...</td>\n",
       "      <td>-176</td>\n",
       "      <td>4.544</td>\n",
       "      <td>0.044</td>\n",
       "      <td>-0.176</td>\n",
       "      <td>0.868</td>\n",
       "      <td>0.233</td>\n",
       "      <td>-0.078</td>\n",
       "      <td>297.00482</td>\n",
       "      <td>48.134129</td>\n",
       "      <td>15.436</td>\n",
       "    </tr>\n",
       "  </tbody>\n",
       "</table>\n",
       "<p>2 rows × 41 columns</p>\n",
       "</div>"
      ],
      "text/plain": [
       "  koi_disposition  koi_fpflag_nt  koi_fpflag_ss  koi_fpflag_co  koi_fpflag_ec  \\\n",
       "0       CONFIRMED              0              0              0              0   \n",
       "1  FALSE POSITIVE              0              1              0              0   \n",
       "\n",
       "   koi_period  koi_period_err1  koi_period_err2  koi_time0bk  \\\n",
       "0   54.418383         0.000248        -0.000248   162.513840   \n",
       "1   19.899140         0.000015        -0.000015   175.850252   \n",
       "\n",
       "   koi_time0bk_err1  ...  koi_steff_err2  koi_slogg  koi_slogg_err1  \\\n",
       "0          0.003520  ...             -81      4.467           0.064   \n",
       "1          0.000581  ...            -176      4.544           0.044   \n",
       "\n",
       "   koi_slogg_err2  koi_srad  koi_srad_err1  koi_srad_err2         ra  \\\n",
       "0          -0.096     0.927          0.105         -0.061  291.93423   \n",
       "1          -0.176     0.868          0.233         -0.078  297.00482   \n",
       "\n",
       "         dec  koi_kepmag  \n",
       "0  48.141651      15.347  \n",
       "1  48.134129      15.436  \n",
       "\n",
       "[2 rows x 41 columns]"
      ]
     },
     "execution_count": 5,
     "metadata": {},
     "output_type": "execute_result"
    }
   ],
   "source": [
    "df = pd.read_csv(\"exoplanet_data.csv\")\n",
    "# Drop the null columns where all values are null\n",
    "df = df.dropna(axis='columns', how='all')\n",
    "# Drop the null rows\n",
    "df = df.dropna()\n",
    "df.head(2)"
   ]
  },
  {
   "cell_type": "markdown",
   "metadata": {},
   "source": [
    "# Create a Train Test Split\n",
    "Use koi_disposition for the y values"
   ]
  },
  {
   "cell_type": "code",
   "execution_count": 6,
   "metadata": {},
   "outputs": [
    {
     "name": "stdout",
     "output_type": "stream",
     "text": [
      "(6991, 40) (6991,)\n"
     ]
    }
   ],
   "source": [
    "# ## Define X, y\n",
    "X = df.drop(\"koi_disposition\", axis=1)\n",
    "y = df[\"koi_disposition\"]\n",
    "\n",
    "print(X.shape, y.shape)"
   ]
  },
  {
   "cell_type": "code",
   "execution_count": 7,
   "metadata": {},
   "outputs": [],
   "source": [
    "# Data Pre-Processing\n",
    "from sklearn.model_selection import train_test_split\n",
    "from sklearn.preprocessing import LabelEncoder, MinMaxScaler\n",
    "from tensorflow.keras.utils import to_categorical"
   ]
  },
  {
   "cell_type": "code",
   "execution_count": 40,
   "metadata": {},
   "outputs": [],
   "source": [
    "\n",
    "X_train, X_test, y_train, y_test = train_test_split(X, y,random_state=115, stratify=y)"
   ]
  },
  {
   "cell_type": "code",
   "execution_count": 41,
   "metadata": {},
   "outputs": [
    {
     "data": {
      "text/html": [
       "<div>\n",
       "<style scoped>\n",
       "    .dataframe tbody tr th:only-of-type {\n",
       "        vertical-align: middle;\n",
       "    }\n",
       "\n",
       "    .dataframe tbody tr th {\n",
       "        vertical-align: top;\n",
       "    }\n",
       "\n",
       "    .dataframe thead th {\n",
       "        text-align: right;\n",
       "    }\n",
       "</style>\n",
       "<table border=\"1\" class=\"dataframe\">\n",
       "  <thead>\n",
       "    <tr style=\"text-align: right;\">\n",
       "      <th></th>\n",
       "      <th>koi_fpflag_nt</th>\n",
       "      <th>koi_fpflag_ss</th>\n",
       "      <th>koi_fpflag_co</th>\n",
       "      <th>koi_fpflag_ec</th>\n",
       "      <th>koi_period</th>\n",
       "      <th>koi_period_err1</th>\n",
       "      <th>koi_period_err2</th>\n",
       "      <th>koi_time0bk</th>\n",
       "      <th>koi_time0bk_err1</th>\n",
       "      <th>koi_time0bk_err2</th>\n",
       "      <th>...</th>\n",
       "      <th>koi_steff_err2</th>\n",
       "      <th>koi_slogg</th>\n",
       "      <th>koi_slogg_err1</th>\n",
       "      <th>koi_slogg_err2</th>\n",
       "      <th>koi_srad</th>\n",
       "      <th>koi_srad_err1</th>\n",
       "      <th>koi_srad_err2</th>\n",
       "      <th>ra</th>\n",
       "      <th>dec</th>\n",
       "      <th>koi_kepmag</th>\n",
       "    </tr>\n",
       "  </thead>\n",
       "  <tbody>\n",
       "    <tr>\n",
       "      <th>2700</th>\n",
       "      <td>0</td>\n",
       "      <td>0</td>\n",
       "      <td>0</td>\n",
       "      <td>0</td>\n",
       "      <td>31.804760</td>\n",
       "      <td>0.000091</td>\n",
       "      <td>-0.000091</td>\n",
       "      <td>190.25413</td>\n",
       "      <td>0.00224</td>\n",
       "      <td>-0.00224</td>\n",
       "      <td>...</td>\n",
       "      <td>-128</td>\n",
       "      <td>4.235</td>\n",
       "      <td>0.143</td>\n",
       "      <td>-0.117</td>\n",
       "      <td>1.356</td>\n",
       "      <td>0.212</td>\n",
       "      <td>-0.259</td>\n",
       "      <td>287.62082</td>\n",
       "      <td>43.141647</td>\n",
       "      <td>13.178</td>\n",
       "    </tr>\n",
       "    <tr>\n",
       "      <th>21</th>\n",
       "      <td>0</td>\n",
       "      <td>0</td>\n",
       "      <td>0</td>\n",
       "      <td>0</td>\n",
       "      <td>4.280964</td>\n",
       "      <td>0.000006</td>\n",
       "      <td>-0.000006</td>\n",
       "      <td>171.89659</td>\n",
       "      <td>0.00115</td>\n",
       "      <td>-0.00115</td>\n",
       "      <td>...</td>\n",
       "      <td>-169</td>\n",
       "      <td>4.564</td>\n",
       "      <td>0.032</td>\n",
       "      <td>-0.168</td>\n",
       "      <td>0.831</td>\n",
       "      <td>0.207</td>\n",
       "      <td>-0.069</td>\n",
       "      <td>294.26581</td>\n",
       "      <td>49.314091</td>\n",
       "      <td>15.356</td>\n",
       "    </tr>\n",
       "    <tr>\n",
       "      <th>5040</th>\n",
       "      <td>0</td>\n",
       "      <td>1</td>\n",
       "      <td>1</td>\n",
       "      <td>0</td>\n",
       "      <td>0.829019</td>\n",
       "      <td>0.000002</td>\n",
       "      <td>-0.000002</td>\n",
       "      <td>131.46667</td>\n",
       "      <td>0.00401</td>\n",
       "      <td>-0.00401</td>\n",
       "      <td>...</td>\n",
       "      <td>-255</td>\n",
       "      <td>4.271</td>\n",
       "      <td>0.124</td>\n",
       "      <td>-0.186</td>\n",
       "      <td>1.328</td>\n",
       "      <td>0.408</td>\n",
       "      <td>-0.220</td>\n",
       "      <td>296.03485</td>\n",
       "      <td>45.490822</td>\n",
       "      <td>14.661</td>\n",
       "    </tr>\n",
       "    <tr>\n",
       "      <th>2795</th>\n",
       "      <td>0</td>\n",
       "      <td>0</td>\n",
       "      <td>1</td>\n",
       "      <td>0</td>\n",
       "      <td>1.387838</td>\n",
       "      <td>0.000006</td>\n",
       "      <td>-0.000006</td>\n",
       "      <td>132.11351</td>\n",
       "      <td>0.00318</td>\n",
       "      <td>-0.00318</td>\n",
       "      <td>...</td>\n",
       "      <td>-219</td>\n",
       "      <td>4.442</td>\n",
       "      <td>0.054</td>\n",
       "      <td>-0.216</td>\n",
       "      <td>1.044</td>\n",
       "      <td>0.335</td>\n",
       "      <td>-0.112</td>\n",
       "      <td>295.64212</td>\n",
       "      <td>48.773071</td>\n",
       "      <td>15.167</td>\n",
       "    </tr>\n",
       "    <tr>\n",
       "      <th>1765</th>\n",
       "      <td>0</td>\n",
       "      <td>0</td>\n",
       "      <td>0</td>\n",
       "      <td>0</td>\n",
       "      <td>14.383227</td>\n",
       "      <td>0.000086</td>\n",
       "      <td>-0.000086</td>\n",
       "      <td>140.57648</td>\n",
       "      <td>0.00530</td>\n",
       "      <td>-0.00530</td>\n",
       "      <td>...</td>\n",
       "      <td>-135</td>\n",
       "      <td>4.249</td>\n",
       "      <td>0.137</td>\n",
       "      <td>-0.112</td>\n",
       "      <td>1.291</td>\n",
       "      <td>0.216</td>\n",
       "      <td>-0.216</td>\n",
       "      <td>290.08276</td>\n",
       "      <td>50.863480</td>\n",
       "      <td>13.312</td>\n",
       "    </tr>\n",
       "  </tbody>\n",
       "</table>\n",
       "<p>5 rows × 40 columns</p>\n",
       "</div>"
      ],
      "text/plain": [
       "      koi_fpflag_nt  koi_fpflag_ss  koi_fpflag_co  koi_fpflag_ec  koi_period  \\\n",
       "2700              0              0              0              0   31.804760   \n",
       "21                0              0              0              0    4.280964   \n",
       "5040              0              1              1              0    0.829019   \n",
       "2795              0              0              1              0    1.387838   \n",
       "1765              0              0              0              0   14.383227   \n",
       "\n",
       "      koi_period_err1  koi_period_err2  koi_time0bk  koi_time0bk_err1  \\\n",
       "2700         0.000091        -0.000091    190.25413           0.00224   \n",
       "21           0.000006        -0.000006    171.89659           0.00115   \n",
       "5040         0.000002        -0.000002    131.46667           0.00401   \n",
       "2795         0.000006        -0.000006    132.11351           0.00318   \n",
       "1765         0.000086        -0.000086    140.57648           0.00530   \n",
       "\n",
       "      koi_time0bk_err2  ...  koi_steff_err2  koi_slogg  koi_slogg_err1  \\\n",
       "2700          -0.00224  ...            -128      4.235           0.143   \n",
       "21            -0.00115  ...            -169      4.564           0.032   \n",
       "5040          -0.00401  ...            -255      4.271           0.124   \n",
       "2795          -0.00318  ...            -219      4.442           0.054   \n",
       "1765          -0.00530  ...            -135      4.249           0.137   \n",
       "\n",
       "      koi_slogg_err2  koi_srad  koi_srad_err1  koi_srad_err2         ra  \\\n",
       "2700          -0.117     1.356          0.212         -0.259  287.62082   \n",
       "21            -0.168     0.831          0.207         -0.069  294.26581   \n",
       "5040          -0.186     1.328          0.408         -0.220  296.03485   \n",
       "2795          -0.216     1.044          0.335         -0.112  295.64212   \n",
       "1765          -0.112     1.291          0.216         -0.216  290.08276   \n",
       "\n",
       "            dec  koi_kepmag  \n",
       "2700  43.141647      13.178  \n",
       "21    49.314091      15.356  \n",
       "5040  45.490822      14.661  \n",
       "2795  48.773071      15.167  \n",
       "1765  50.863480      13.312  \n",
       "\n",
       "[5 rows x 40 columns]"
      ]
     },
     "execution_count": 41,
     "metadata": {},
     "output_type": "execute_result"
    }
   ],
   "source": [
    "X_train.head()"
   ]
  },
  {
   "cell_type": "markdown",
   "metadata": {},
   "source": [
    "# Pre-processing\n",
    "Scale the data using the MinMaxScaler and perform some feature selection"
   ]
  },
  {
   "cell_type": "code",
   "execution_count": 42,
   "metadata": {},
   "outputs": [],
   "source": [
    "\n",
    "X_scaler = MinMaxScaler().fit(X_train)\n",
    "X_train_scaled = X_scaler.transform(X_train)\n",
    "X_test_scaled = X_scaler.transform(X_test)"
   ]
  },
  {
   "cell_type": "markdown",
   "metadata": {},
   "source": [
    "# Train Model - Neural Network\n",
    "Use Neural Network model"
   ]
  },
  {
   "cell_type": "code",
   "execution_count": 43,
   "metadata": {},
   "outputs": [],
   "source": [
    "\n",
    "# Step 1: Label-encode data set\n",
    "label_encoder = LabelEncoder()\n",
    "label_encoder.fit(y_train)\n",
    "encoded_y_train = label_encoder.transform(y_train)\n",
    "encoded_y_test = label_encoder.transform(y_test)"
   ]
  },
  {
   "cell_type": "code",
   "execution_count": 44,
   "metadata": {},
   "outputs": [],
   "source": [
    "\n",
    "# Step 2: Convert encoded labels to one-hot-encoding\n",
    "y_train_categorical = to_categorical(encoded_y_train)\n",
    "y_test_categorical = to_categorical(encoded_y_test)"
   ]
  },
  {
   "cell_type": "code",
   "execution_count": 45,
   "metadata": {},
   "outputs": [
    {
     "name": "stdout",
     "output_type": "stream",
     "text": [
      "['CANDIDATE' 'CONFIRMED' 'FALSE POSITIVE']\n"
     ]
    }
   ],
   "source": [
    "print(label_encoder.classes_)"
   ]
  },
  {
   "cell_type": "code",
   "execution_count": 69,
   "metadata": {},
   "outputs": [],
   "source": [
    "label_encoder.fit(y)\n",
    "encoded_y = label_encoder.transform(y)\n",
    "#pd.plotting.scatter_matrix(X, c=encoded_y, figsize=(40, 40));"
   ]
  },
  {
   "cell_type": "code",
   "execution_count": 47,
   "metadata": {},
   "outputs": [],
   "source": [
    "# # Create a Deep Learning Model\n",
    "\n",
    "from tensorflow.keras.models import Sequential\n",
    "from tensorflow.keras.layers import Dense"
   ]
  },
  {
   "cell_type": "code",
   "execution_count": 70,
   "metadata": {},
   "outputs": [],
   "source": [
    "# Create model and add layers\n",
    "model = Sequential()\n",
    "model.add(Dense(units=10, activation='relu', input_dim=40))\n",
    "model.add(Dense(units=3, activation='softmax'))\n"
   ]
  },
  {
   "cell_type": "code",
   "execution_count": 71,
   "metadata": {},
   "outputs": [
    {
     "name": "stdout",
     "output_type": "stream",
     "text": [
      "Model: \"sequential_6\"\n",
      "_________________________________________________________________\n",
      "Layer (type)                 Output Shape              Param #   \n",
      "=================================================================\n",
      "dense_16 (Dense)             (None, 10)                410       \n",
      "_________________________________________________________________\n",
      "dense_17 (Dense)             (None, 3)                 33        \n",
      "=================================================================\n",
      "Total params: 443\n",
      "Trainable params: 443\n",
      "Non-trainable params: 0\n",
      "_________________________________________________________________\n"
     ]
    }
   ],
   "source": [
    "\n",
    "model.summary()"
   ]
  },
  {
   "cell_type": "code",
   "execution_count": 72,
   "metadata": {},
   "outputs": [],
   "source": [
    "# Compile and fit the model\n",
    "model.compile(optimizer='adam',\n",
    "              loss='categorical_crossentropy',\n",
    "              metrics=['accuracy'])"
   ]
  },
  {
   "cell_type": "code",
   "execution_count": 73,
   "metadata": {},
   "outputs": [
    {
     "name": "stdout",
     "output_type": "stream",
     "text": [
      "Train on 5243 samples\n",
      "Epoch 1/100\n",
      "5243/5243 - 2s - loss: 0.9721 - accuracy: 0.4808\n",
      "Epoch 2/100\n",
      "5243/5243 - 0s - loss: 0.7945 - accuracy: 0.5293\n",
      "Epoch 3/100\n",
      "5243/5243 - 0s - loss: 0.6216 - accuracy: 0.7162\n",
      "Epoch 4/100\n",
      "5243/5243 - 0s - loss: 0.4989 - accuracy: 0.7595\n",
      "Epoch 5/100\n",
      "5243/5243 - 0s - loss: 0.4343 - accuracy: 0.8167\n",
      "Epoch 6/100\n",
      "5243/5243 - 0s - loss: 0.4053 - accuracy: 0.8171\n",
      "Epoch 7/100\n",
      "5243/5243 - 0s - loss: 0.3893 - accuracy: 0.8207\n",
      "Epoch 8/100\n",
      "5243/5243 - 0s - loss: 0.3788 - accuracy: 0.8262\n",
      "Epoch 9/100\n",
      "5243/5243 - 0s - loss: 0.3708 - accuracy: 0.8240\n",
      "Epoch 10/100\n",
      "5243/5243 - 0s - loss: 0.3640 - accuracy: 0.8295\n",
      "Epoch 11/100\n",
      "5243/5243 - 0s - loss: 0.3583 - accuracy: 0.8314\n",
      "Epoch 12/100\n",
      "5243/5243 - 0s - loss: 0.3530 - accuracy: 0.8337\n",
      "Epoch 13/100\n",
      "5243/5243 - 0s - loss: 0.3495 - accuracy: 0.8316\n",
      "Epoch 14/100\n",
      "5243/5243 - 0s - loss: 0.3449 - accuracy: 0.8354\n",
      "Epoch 15/100\n",
      "5243/5243 - 0s - loss: 0.3418 - accuracy: 0.8383\n",
      "Epoch 16/100\n",
      "5243/5243 - 0s - loss: 0.3377 - accuracy: 0.8459\n",
      "Epoch 17/100\n",
      "5243/5243 - 0s - loss: 0.3351 - accuracy: 0.8434\n",
      "Epoch 18/100\n",
      "5243/5243 - 0s - loss: 0.3324 - accuracy: 0.8489\n",
      "Epoch 19/100\n",
      "5243/5243 - 0s - loss: 0.3291 - accuracy: 0.8497\n",
      "Epoch 20/100\n",
      "5243/5243 - 0s - loss: 0.3264 - accuracy: 0.8518\n",
      "Epoch 21/100\n",
      "5243/5243 - 0s - loss: 0.3238 - accuracy: 0.8556\n",
      "Epoch 22/100\n",
      "5243/5243 - 0s - loss: 0.3225 - accuracy: 0.8545\n",
      "Epoch 23/100\n",
      "5243/5243 - 0s - loss: 0.3199 - accuracy: 0.8591\n",
      "Epoch 24/100\n",
      "5243/5243 - 0s - loss: 0.3190 - accuracy: 0.8577\n",
      "Epoch 25/100\n",
      "5243/5243 - 0s - loss: 0.3149 - accuracy: 0.8602\n",
      "Epoch 26/100\n",
      "5243/5243 - 0s - loss: 0.3140 - accuracy: 0.8604\n",
      "Epoch 27/100\n",
      "5243/5243 - 0s - loss: 0.3129 - accuracy: 0.8659\n",
      "Epoch 28/100\n",
      "5243/5243 - 0s - loss: 0.3105 - accuracy: 0.8640\n",
      "Epoch 29/100\n",
      "5243/5243 - 0s - loss: 0.3100 - accuracy: 0.8638\n",
      "Epoch 30/100\n",
      "5243/5243 - 0s - loss: 0.3079 - accuracy: 0.8671\n",
      "Epoch 31/100\n",
      "5243/5243 - 0s - loss: 0.3059 - accuracy: 0.8697\n",
      "Epoch 32/100\n",
      "5243/5243 - 0s - loss: 0.3050 - accuracy: 0.8636\n",
      "Epoch 33/100\n",
      "5243/5243 - 0s - loss: 0.3053 - accuracy: 0.8671\n",
      "Epoch 34/100\n",
      "5243/5243 - 0s - loss: 0.3039 - accuracy: 0.8693\n",
      "Epoch 35/100\n",
      "5243/5243 - 0s - loss: 0.3021 - accuracy: 0.8684\n",
      "Epoch 36/100\n",
      "5243/5243 - 0s - loss: 0.3009 - accuracy: 0.8680\n",
      "Epoch 37/100\n",
      "5243/5243 - 0s - loss: 0.3002 - accuracy: 0.8682\n",
      "Epoch 38/100\n",
      "5243/5243 - 0s - loss: 0.2994 - accuracy: 0.8701\n",
      "Epoch 39/100\n",
      "5243/5243 - 0s - loss: 0.2978 - accuracy: 0.8722\n",
      "Epoch 40/100\n",
      "5243/5243 - 0s - loss: 0.2971 - accuracy: 0.8674\n",
      "Epoch 41/100\n",
      "5243/5243 - 0s - loss: 0.2977 - accuracy: 0.8692\n",
      "Epoch 42/100\n",
      "5243/5243 - 0s - loss: 0.2952 - accuracy: 0.8707\n",
      "Epoch 43/100\n",
      "5243/5243 - 0s - loss: 0.2961 - accuracy: 0.8724\n",
      "Epoch 44/100\n",
      "5243/5243 - 0s - loss: 0.2961 - accuracy: 0.8728\n",
      "Epoch 45/100\n",
      "5243/5243 - 0s - loss: 0.2945 - accuracy: 0.8703\n",
      "Epoch 46/100\n",
      "5243/5243 - 0s - loss: 0.2928 - accuracy: 0.8705\n",
      "Epoch 47/100\n",
      "5243/5243 - 0s - loss: 0.2919 - accuracy: 0.8756\n",
      "Epoch 48/100\n",
      "5243/5243 - 0s - loss: 0.2918 - accuracy: 0.8760\n",
      "Epoch 49/100\n",
      "5243/5243 - 0s - loss: 0.2919 - accuracy: 0.8745\n",
      "Epoch 50/100\n",
      "5243/5243 - 0s - loss: 0.2900 - accuracy: 0.8730\n",
      "Epoch 51/100\n",
      "5243/5243 - 0s - loss: 0.2915 - accuracy: 0.8734\n",
      "Epoch 52/100\n",
      "5243/5243 - 0s - loss: 0.2917 - accuracy: 0.8735\n",
      "Epoch 53/100\n",
      "5243/5243 - 0s - loss: 0.2896 - accuracy: 0.8753\n",
      "Epoch 54/100\n",
      "5243/5243 - 0s - loss: 0.2886 - accuracy: 0.8758\n",
      "Epoch 55/100\n",
      "5243/5243 - 0s - loss: 0.2877 - accuracy: 0.8756\n",
      "Epoch 56/100\n",
      "5243/5243 - 0s - loss: 0.2870 - accuracy: 0.8774\n",
      "Epoch 57/100\n",
      "5243/5243 - 0s - loss: 0.2870 - accuracy: 0.8745\n",
      "Epoch 58/100\n",
      "5243/5243 - 0s - loss: 0.2855 - accuracy: 0.8787\n",
      "Epoch 59/100\n",
      "5243/5243 - 0s - loss: 0.2867 - accuracy: 0.8796\n",
      "Epoch 60/100\n",
      "5243/5243 - 0s - loss: 0.2874 - accuracy: 0.8800\n",
      "Epoch 61/100\n",
      "5243/5243 - 0s - loss: 0.2853 - accuracy: 0.8774\n",
      "Epoch 62/100\n",
      "5243/5243 - 0s - loss: 0.2852 - accuracy: 0.8789\n",
      "Epoch 63/100\n",
      "5243/5243 - 0s - loss: 0.2856 - accuracy: 0.8777\n",
      "Epoch 64/100\n",
      "5243/5243 - 0s - loss: 0.2844 - accuracy: 0.8806\n",
      "Epoch 65/100\n",
      "5243/5243 - 0s - loss: 0.2835 - accuracy: 0.8766\n",
      "Epoch 66/100\n",
      "5243/5243 - 0s - loss: 0.2829 - accuracy: 0.8770\n",
      "Epoch 67/100\n",
      "5243/5243 - 0s - loss: 0.2839 - accuracy: 0.8783\n",
      "Epoch 68/100\n",
      "5243/5243 - 0s - loss: 0.2821 - accuracy: 0.8791\n",
      "Epoch 69/100\n",
      "5243/5243 - 0s - loss: 0.2823 - accuracy: 0.8796\n",
      "Epoch 70/100\n",
      "5243/5243 - 0s - loss: 0.2812 - accuracy: 0.8837\n",
      "Epoch 71/100\n",
      "5243/5243 - 0s - loss: 0.2816 - accuracy: 0.8795\n",
      "Epoch 72/100\n",
      "5243/5243 - 0s - loss: 0.2818 - accuracy: 0.8814\n",
      "Epoch 73/100\n",
      "5243/5243 - 0s - loss: 0.2817 - accuracy: 0.8837\n",
      "Epoch 74/100\n",
      "5243/5243 - 0s - loss: 0.2800 - accuracy: 0.8837\n",
      "Epoch 75/100\n",
      "5243/5243 - 0s - loss: 0.2801 - accuracy: 0.8833\n",
      "Epoch 76/100\n",
      "5243/5243 - 0s - loss: 0.2822 - accuracy: 0.8804\n",
      "Epoch 77/100\n",
      "5243/5243 - 0s - loss: 0.2798 - accuracy: 0.8806\n",
      "Epoch 78/100\n",
      "5243/5243 - 0s - loss: 0.2814 - accuracy: 0.8795\n",
      "Epoch 79/100\n",
      "5243/5243 - 0s - loss: 0.2805 - accuracy: 0.8777\n",
      "Epoch 80/100\n",
      "5243/5243 - 0s - loss: 0.2787 - accuracy: 0.8850\n",
      "Epoch 81/100\n",
      "5243/5243 - 0s - loss: 0.2810 - accuracy: 0.8798\n",
      "Epoch 82/100\n",
      "5243/5243 - 0s - loss: 0.2817 - accuracy: 0.8800\n",
      "Epoch 83/100\n",
      "5243/5243 - 0s - loss: 0.2783 - accuracy: 0.8837\n",
      "Epoch 84/100\n",
      "5243/5243 - 0s - loss: 0.2786 - accuracy: 0.8861\n",
      "Epoch 85/100\n",
      "5243/5243 - 0s - loss: 0.2795 - accuracy: 0.8817\n",
      "Epoch 86/100\n",
      "5243/5243 - 0s - loss: 0.2779 - accuracy: 0.8856\n",
      "Epoch 87/100\n",
      "5243/5243 - 0s - loss: 0.2784 - accuracy: 0.8835\n",
      "Epoch 88/100\n",
      "5243/5243 - 0s - loss: 0.2774 - accuracy: 0.8840\n",
      "Epoch 89/100\n",
      "5243/5243 - 0s - loss: 0.2811 - accuracy: 0.8796\n",
      "Epoch 90/100\n",
      "5243/5243 - 0s - loss: 0.2769 - accuracy: 0.8829\n",
      "Epoch 91/100\n",
      "5243/5243 - 0s - loss: 0.2773 - accuracy: 0.8863\n",
      "Epoch 92/100\n",
      "5243/5243 - 0s - loss: 0.2790 - accuracy: 0.8814\n",
      "Epoch 93/100\n",
      "5243/5243 - 0s - loss: 0.2765 - accuracy: 0.8821\n",
      "Epoch 94/100\n",
      "5243/5243 - 0s - loss: 0.2791 - accuracy: 0.8825\n",
      "Epoch 95/100\n",
      "5243/5243 - 0s - loss: 0.2804 - accuracy: 0.8831\n",
      "Epoch 96/100\n",
      "5243/5243 - 0s - loss: 0.2781 - accuracy: 0.8810\n",
      "Epoch 97/100\n",
      "5243/5243 - 0s - loss: 0.2761 - accuracy: 0.8831\n",
      "Epoch 98/100\n",
      "5243/5243 - 0s - loss: 0.2770 - accuracy: 0.8877\n",
      "Epoch 99/100\n",
      "5243/5243 - 0s - loss: 0.2752 - accuracy: 0.8814\n",
      "Epoch 100/100\n",
      "5243/5243 - 0s - loss: 0.2763 - accuracy: 0.8842\n"
     ]
    },
    {
     "data": {
      "text/plain": [
       "<tensorflow.python.keras.callbacks.History at 0x1a9a3c91e48>"
      ]
     },
     "execution_count": 73,
     "metadata": {},
     "output_type": "execute_result"
    }
   ],
   "source": [
    "# Fit the model to the training data\n",
    "model.fit(\n",
    "    X_train_scaled,\n",
    "    y_train_categorical,\n",
    "    epochs=100,\n",
    "    shuffle=True,\n",
    "    verbose=2\n",
    ")"
   ]
  },
  {
   "cell_type": "code",
   "execution_count": 52,
   "metadata": {},
   "outputs": [
    {
     "name": "stdout",
     "output_type": "stream",
     "text": [
      "1748/1748 - 0s - loss: nan - accuracy: 0.2414\n",
      "Normal Neural Network - Loss: nan, Accuracy: 0.2414187639951706\n"
     ]
    }
   ],
   "source": [
    "# ## Quantify our Trained Model\n",
    "\n",
    "model_loss, model_accuracy = model.evaluate(\n",
    "    X_test_scaled, y_test_categorical, verbose=2)\n",
    "print(\n",
    "    f\"Normal Neural Network - Loss: {model_loss}, Accuracy: {model_accuracy}\")"
   ]
  },
  {
   "cell_type": "code",
   "execution_count": 53,
   "metadata": {},
   "outputs": [],
   "source": [
    "# ## Make Predictions\n",
    "\n",
    "encoded_predictions = model.predict_classes(X_test_scaled[:5])\n",
    "prediction_labels = label_encoder.inverse_transform(encoded_predictions)"
   ]
  },
  {
   "cell_type": "code",
   "execution_count": 54,
   "metadata": {},
   "outputs": [
    {
     "name": "stdout",
     "output_type": "stream",
     "text": [
      "Predicted classes: ['CANDIDATE' 'CANDIDATE' 'CANDIDATE' 'CANDIDATE' 'CANDIDATE']\n",
      "Actual Labels: ['FALSE POSITIVE', 'FALSE POSITIVE', 'CANDIDATE', 'FALSE POSITIVE', 'CONFIRMED']\n"
     ]
    }
   ],
   "source": [
    "\n",
    "print(f\"Predicted classes: {prediction_labels}\")\n",
    "print(f\"Actual Labels: {list(y_test[:5])}\")"
   ]
  },
  {
   "cell_type": "markdown",
   "metadata": {},
   "source": [
    "# Deep Learning"
   ]
  },
  {
   "cell_type": "code",
   "execution_count": 55,
   "metadata": {},
   "outputs": [],
   "source": [
    "deep_model = Sequential()\n",
    "deep_model.add(Dense(units=10, activation='relu', input_dim=40))\n",
    "deep_model.add(Dense(units=10, activation='relu'))\n",
    "deep_model.add(Dense(units=3, activation='softmax'))"
   ]
  },
  {
   "cell_type": "code",
   "execution_count": 56,
   "metadata": {},
   "outputs": [
    {
     "name": "stdout",
     "output_type": "stream",
     "text": [
      "Model: \"sequential_5\"\n",
      "_________________________________________________________________\n",
      "Layer (type)                 Output Shape              Param #   \n",
      "=================================================================\n",
      "dense_13 (Dense)             (None, 10)                410       \n",
      "_________________________________________________________________\n",
      "dense_14 (Dense)             (None, 10)                110       \n",
      "_________________________________________________________________\n",
      "dense_15 (Dense)             (None, 3)                 33        \n",
      "=================================================================\n",
      "Total params: 553\n",
      "Trainable params: 553\n",
      "Non-trainable params: 0\n",
      "_________________________________________________________________\n"
     ]
    }
   ],
   "source": [
    "deep_model.summary()"
   ]
  },
  {
   "cell_type": "code",
   "execution_count": 57,
   "metadata": {},
   "outputs": [
    {
     "name": "stdout",
     "output_type": "stream",
     "text": [
      "Train on 5243 samples\n",
      "Epoch 1/100\n",
      "5243/5243 - 1s - loss: 0.9737 - accuracy: 0.4669\n",
      "Epoch 2/100\n",
      "5243/5243 - 0s - loss: 0.6226 - accuracy: 0.7599\n",
      "Epoch 3/100\n",
      "5243/5243 - 0s - loss: 0.4538 - accuracy: 0.7999\n",
      "Epoch 4/100\n",
      "5243/5243 - 0s - loss: 0.4042 - accuracy: 0.8123\n",
      "Epoch 5/100\n",
      "5243/5243 - 0s - loss: 0.3839 - accuracy: 0.8159\n",
      "Epoch 6/100\n",
      "5243/5243 - 0s - loss: 0.3707 - accuracy: 0.8175\n",
      "Epoch 7/100\n",
      "5243/5243 - 0s - loss: 0.3580 - accuracy: 0.8308\n",
      "Epoch 8/100\n",
      "5243/5243 - 0s - loss: 0.3526 - accuracy: 0.8367\n",
      "Epoch 9/100\n",
      "5243/5243 - 0s - loss: 0.3454 - accuracy: 0.8343\n",
      "Epoch 10/100\n",
      "5243/5243 - 0s - loss: 0.3402 - accuracy: 0.8409\n",
      "Epoch 11/100\n",
      "5243/5243 - 0s - loss: 0.3375 - accuracy: 0.8409\n",
      "Epoch 12/100\n",
      "5243/5243 - 0s - loss: 0.3309 - accuracy: 0.8470\n",
      "Epoch 13/100\n",
      "5243/5243 - 0s - loss: 0.3280 - accuracy: 0.8518\n",
      "Epoch 14/100\n",
      "5243/5243 - 0s - loss: 0.3248 - accuracy: 0.8535\n",
      "Epoch 15/100\n",
      "5243/5243 - 0s - loss: 0.3216 - accuracy: 0.8598\n",
      "Epoch 16/100\n",
      "5243/5243 - 0s - loss: 0.3186 - accuracy: 0.8529\n",
      "Epoch 17/100\n",
      "5243/5243 - 0s - loss: 0.3160 - accuracy: 0.8621\n",
      "Epoch 18/100\n",
      "5243/5243 - 0s - loss: 0.3134 - accuracy: 0.8632\n",
      "Epoch 19/100\n",
      "5243/5243 - 0s - loss: 0.3119 - accuracy: 0.8621\n",
      "Epoch 20/100\n",
      "5243/5243 - 0s - loss: 0.3102 - accuracy: 0.8611\n",
      "Epoch 21/100\n",
      "5243/5243 - 0s - loss: 0.3101 - accuracy: 0.8621\n",
      "Epoch 22/100\n",
      "5243/5243 - 0s - loss: 0.3089 - accuracy: 0.8617\n",
      "Epoch 23/100\n",
      "5243/5243 - 0s - loss: 0.3030 - accuracy: 0.8697\n",
      "Epoch 24/100\n",
      "5243/5243 - 0s - loss: 0.3027 - accuracy: 0.8652\n",
      "Epoch 25/100\n",
      "5243/5243 - 0s - loss: 0.3023 - accuracy: 0.8678\n",
      "Epoch 26/100\n",
      "5243/5243 - 0s - loss: 0.2992 - accuracy: 0.8701\n",
      "Epoch 27/100\n",
      "5243/5243 - 0s - loss: 0.2995 - accuracy: 0.8688\n",
      "Epoch 28/100\n",
      "5243/5243 - 0s - loss: 0.2979 - accuracy: 0.8684\n",
      "Epoch 29/100\n",
      "5243/5243 - 0s - loss: 0.2984 - accuracy: 0.8692\n",
      "Epoch 30/100\n",
      "5243/5243 - 0s - loss: 0.2959 - accuracy: 0.8711\n",
      "Epoch 31/100\n",
      "5243/5243 - 0s - loss: 0.2939 - accuracy: 0.8764\n",
      "Epoch 32/100\n",
      "5243/5243 - 0s - loss: 0.2919 - accuracy: 0.8722\n",
      "Epoch 33/100\n",
      "5243/5243 - 0s - loss: 0.2915 - accuracy: 0.8716\n",
      "Epoch 34/100\n",
      "5243/5243 - 0s - loss: 0.2916 - accuracy: 0.8747\n",
      "Epoch 35/100\n",
      "5243/5243 - 0s - loss: 0.2910 - accuracy: 0.8751\n",
      "Epoch 36/100\n",
      "5243/5243 - 0s - loss: 0.2907 - accuracy: 0.8760\n",
      "Epoch 37/100\n",
      "5243/5243 - 0s - loss: 0.2884 - accuracy: 0.8756\n",
      "Epoch 38/100\n",
      "5243/5243 - 0s - loss: 0.2883 - accuracy: 0.8772\n",
      "Epoch 39/100\n",
      "5243/5243 - 0s - loss: 0.2888 - accuracy: 0.8766\n",
      "Epoch 40/100\n",
      "5243/5243 - 0s - loss: 0.2853 - accuracy: 0.8756\n",
      "Epoch 41/100\n",
      "5243/5243 - 0s - loss: 0.2877 - accuracy: 0.8772\n",
      "Epoch 42/100\n",
      "5243/5243 - 0s - loss: 0.2855 - accuracy: 0.8787\n",
      "Epoch 43/100\n",
      "5243/5243 - 0s - loss: 0.2856 - accuracy: 0.8779\n",
      "Epoch 44/100\n",
      "5243/5243 - 0s - loss: 0.2833 - accuracy: 0.8785\n",
      "Epoch 45/100\n",
      "5243/5243 - 0s - loss: 0.2882 - accuracy: 0.8774\n",
      "Epoch 46/100\n",
      "5243/5243 - 0s - loss: 0.2838 - accuracy: 0.8793\n",
      "Epoch 47/100\n",
      "5243/5243 - 0s - loss: 0.2822 - accuracy: 0.8838\n",
      "Epoch 48/100\n",
      "5243/5243 - 0s - loss: 0.2829 - accuracy: 0.8823\n",
      "Epoch 49/100\n",
      "5243/5243 - 0s - loss: 0.2830 - accuracy: 0.8819\n",
      "Epoch 50/100\n",
      "5243/5243 - 0s - loss: 0.2837 - accuracy: 0.8781\n",
      "Epoch 51/100\n",
      "5243/5243 - 0s - loss: 0.2827 - accuracy: 0.8787\n",
      "Epoch 52/100\n",
      "5243/5243 - 0s - loss: 0.2853 - accuracy: 0.8783\n",
      "Epoch 53/100\n",
      "5243/5243 - 0s - loss: 0.2822 - accuracy: 0.8779\n",
      "Epoch 54/100\n",
      "5243/5243 - 0s - loss: 0.2794 - accuracy: 0.8819\n",
      "Epoch 55/100\n",
      "5243/5243 - 0s - loss: 0.2816 - accuracy: 0.8804\n",
      "Epoch 56/100\n",
      "5243/5243 - 0s - loss: 0.2796 - accuracy: 0.8842\n",
      "Epoch 57/100\n",
      "5243/5243 - 0s - loss: 0.2805 - accuracy: 0.8827\n",
      "Epoch 58/100\n",
      "5243/5243 - 0s - loss: 0.2800 - accuracy: 0.8783\n",
      "Epoch 59/100\n",
      "5243/5243 - 0s - loss: 0.2777 - accuracy: 0.8846\n",
      "Epoch 60/100\n",
      "5243/5243 - 0s - loss: 0.2805 - accuracy: 0.8831\n",
      "Epoch 61/100\n",
      "5243/5243 - 0s - loss: 0.2790 - accuracy: 0.8838\n",
      "Epoch 62/100\n",
      "5243/5243 - 0s - loss: 0.2807 - accuracy: 0.8812\n",
      "Epoch 63/100\n",
      "5243/5243 - 0s - loss: 0.2762 - accuracy: 0.8837\n",
      "Epoch 64/100\n",
      "5243/5243 - 0s - loss: 0.2797 - accuracy: 0.8827\n",
      "Epoch 65/100\n",
      "5243/5243 - 0s - loss: 0.2856 - accuracy: 0.8768\n",
      "Epoch 66/100\n",
      "5243/5243 - 0s - loss: 0.2771 - accuracy: 0.8850\n",
      "Epoch 67/100\n",
      "5243/5243 - 0s - loss: 0.2758 - accuracy: 0.8850\n",
      "Epoch 68/100\n",
      "5243/5243 - 0s - loss: 0.2792 - accuracy: 0.8854\n",
      "Epoch 69/100\n",
      "5243/5243 - 0s - loss: 0.2780 - accuracy: 0.8806\n",
      "Epoch 70/100\n",
      "5243/5243 - 0s - loss: 0.2747 - accuracy: 0.8833\n",
      "Epoch 71/100\n",
      "5243/5243 - 0s - loss: 0.2765 - accuracy: 0.8863\n",
      "Epoch 72/100\n",
      "5243/5243 - 0s - loss: 0.2753 - accuracy: 0.8863\n",
      "Epoch 73/100\n",
      "5243/5243 - 0s - loss: 0.2763 - accuracy: 0.8837\n",
      "Epoch 74/100\n",
      "5243/5243 - 0s - loss: 0.2770 - accuracy: 0.8865\n",
      "Epoch 75/100\n",
      "5243/5243 - 0s - loss: 0.2755 - accuracy: 0.8856\n",
      "Epoch 76/100\n",
      "5243/5243 - 0s - loss: 0.2747 - accuracy: 0.8867\n",
      "Epoch 77/100\n",
      "5243/5243 - 0s - loss: 0.2745 - accuracy: 0.8863\n",
      "Epoch 78/100\n",
      "5243/5243 - 0s - loss: 0.2760 - accuracy: 0.8819\n",
      "Epoch 79/100\n",
      "5243/5243 - 0s - loss: 0.2729 - accuracy: 0.8869\n",
      "Epoch 80/100\n",
      "5243/5243 - 0s - loss: 0.2755 - accuracy: 0.8879\n",
      "Epoch 81/100\n",
      "5243/5243 - 0s - loss: 0.2757 - accuracy: 0.8867\n",
      "Epoch 82/100\n",
      "5243/5243 - 0s - loss: 0.2742 - accuracy: 0.8877\n",
      "Epoch 83/100\n",
      "5243/5243 - 0s - loss: 0.2742 - accuracy: 0.8867\n",
      "Epoch 84/100\n",
      "5243/5243 - 0s - loss: 0.2740 - accuracy: 0.8825\n",
      "Epoch 85/100\n",
      "5243/5243 - 0s - loss: 0.2739 - accuracy: 0.8873\n",
      "Epoch 86/100\n",
      "5243/5243 - 0s - loss: 0.2737 - accuracy: 0.8890\n",
      "Epoch 87/100\n",
      "5243/5243 - 0s - loss: 0.2734 - accuracy: 0.8882\n",
      "Epoch 88/100\n",
      "5243/5243 - 0s - loss: 0.2723 - accuracy: 0.8861\n",
      "Epoch 89/100\n",
      "5243/5243 - 0s - loss: 0.2738 - accuracy: 0.8871\n",
      "Epoch 90/100\n",
      "5243/5243 - 0s - loss: 0.2735 - accuracy: 0.8880\n",
      "Epoch 91/100\n",
      "5243/5243 - 0s - loss: 0.2733 - accuracy: 0.8861\n",
      "Epoch 92/100\n",
      "5243/5243 - 0s - loss: 0.2729 - accuracy: 0.8850\n",
      "Epoch 93/100\n",
      "5243/5243 - 0s - loss: 0.2708 - accuracy: 0.8890\n",
      "Epoch 94/100\n",
      "5243/5243 - 0s - loss: 0.2712 - accuracy: 0.8867\n",
      "Epoch 95/100\n",
      "5243/5243 - 0s - loss: 0.2734 - accuracy: 0.8884\n",
      "Epoch 96/100\n",
      "5243/5243 - 0s - loss: 0.2701 - accuracy: 0.8859\n",
      "Epoch 97/100\n",
      "5243/5243 - 0s - loss: 0.2701 - accuracy: 0.8919\n",
      "Epoch 98/100\n",
      "5243/5243 - 0s - loss: 0.2760 - accuracy: 0.8796\n",
      "Epoch 99/100\n",
      "5243/5243 - 0s - loss: 0.2721 - accuracy: 0.8873\n",
      "Epoch 100/100\n",
      "5243/5243 - 0s - loss: 0.2691 - accuracy: 0.8913\n"
     ]
    },
    {
     "data": {
      "text/plain": [
       "<tensorflow.python.keras.callbacks.History at 0x1a9a5354828>"
      ]
     },
     "execution_count": 57,
     "metadata": {},
     "output_type": "execute_result"
    }
   ],
   "source": [
    "deep_model.compile(optimizer='adam',\n",
    "                   loss='categorical_crossentropy',\n",
    "                   metrics=['accuracy'])\n",
    "\n",
    "deep_model.fit(\n",
    "    X_train_scaled,\n",
    "    y_train_categorical,\n",
    "    epochs=100,\n",
    "    shuffle=True,\n",
    "    verbose=2\n",
    ")"
   ]
  },
  {
   "cell_type": "markdown",
   "metadata": {},
   "source": [
    "# Compare 2 models (Neural Networks and Deep Learning"
   ]
  },
  {
   "cell_type": "code",
   "execution_count": 74,
   "metadata": {},
   "outputs": [
    {
     "name": "stdout",
     "output_type": "stream",
     "text": [
      "1748/1748 - 0s - loss: 0.2882 - accuracy: 0.8690\n",
      "Normal Neural Network - Loss: 0.2882032309162262, Accuracy: 0.8689931631088257\n"
     ]
    }
   ],
   "source": [
    "# Neural Networks\n",
    "model_loss, model_accuracy = model.evaluate(\n",
    "    X_test_scaled, y_test_categorical, verbose=2)\n",
    "print(\n",
    "    f\"Normal Neural Network - Loss: {model_loss}, Accuracy: {model_accuracy}\")"
   ]
  },
  {
   "cell_type": "code",
   "execution_count": 59,
   "metadata": {},
   "outputs": [
    {
     "name": "stdout",
     "output_type": "stream",
     "text": [
      "1748/1748 - 0s - loss: 0.2890 - accuracy: 0.8816\n",
      "Deep Neural Network - Loss: 0.2889800428389412, Accuracy: 0.8815789222717285\n"
     ]
    }
   ],
   "source": [
    "# Deep Learning\n",
    "model_loss, model_accuracy = deep_model.evaluate(\n",
    "    X_test_scaled, y_test_categorical, verbose=2)\n",
    "print(f\"Deep Neural Network - Loss: {model_loss}, Accuracy: {model_accuracy}\")"
   ]
  },
  {
   "cell_type": "markdown",
   "metadata": {},
   "source": [
    "# Save the Model"
   ]
  },
  {
   "cell_type": "code",
   "execution_count": 61,
   "metadata": {},
   "outputs": [],
   "source": [
    "import joblib"
   ]
  },
  {
   "cell_type": "raw",
   "metadata": {},
   "source": [
    "# Save your model\n",
    "\n",
    "#import joblib\n",
    "filename = '../saved_models/ST_normalneural.sav'\n",
    "joblib.dump(model, filename)\n"
   ]
  },
  {
   "cell_type": "raw",
   "metadata": {},
   "source": [
    "#import joblib\n",
    "#filepath= '../saved_models'\n",
    "filename = '../saved_models/ST_DeepLearning.sav'\n",
    "joblib.dump(deep_model, filename)"
   ]
  },
  {
   "cell_type": "raw",
   "metadata": {},
   "source": [
    "deep_model.save('../saved_models/ST_DeepLearning.sav')"
   ]
  },
  {
   "cell_type": "code",
   "execution_count": null,
   "metadata": {},
   "outputs": [],
   "source": [
    "# Save Deep_model\n",
    "\n",
    "#import joblib\n",
    "filename2 = 'ST_deeplearning.sav'\n",
    "joblib.dump(deep_model, filename2)"
   ]
  }
 ],
 "metadata": {
  "kernelspec": {
   "display_name": "Python [conda env:PythonAdv] *",
   "language": "python",
   "name": "conda-env-PythonAdv-py"
  },
  "language_info": {
   "codemirror_mode": {
    "name": "ipython",
    "version": 3
   },
   "file_extension": ".py",
   "mimetype": "text/x-python",
   "name": "python",
   "nbconvert_exporter": "python",
   "pygments_lexer": "ipython3",
   "version": "3.6.12"
  }
 },
 "nbformat": 4,
 "nbformat_minor": 4
}
